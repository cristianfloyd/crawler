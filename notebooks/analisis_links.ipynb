{
 "cells": [
  {
   "cell_type": "markdown",
   "metadata": {},
   "source": [
    "# Análisis y Mejora de Detección de Links\n",
    "\n",
    "Este notebook se centra en analizar y mejorar los métodos de detección de links de la clase `DescubrirSitios`, especialmente para filtrar links irrelevantes como categorías de WordPress, posts de autores, etc."
   ]
  },
  {
   "cell_type": "markdown",
   "metadata": {},
   "source": [
    "## 1. Cargar Datos de SITIOS_RELEVANTES"
   ]
  },
  {
   "cell_type": "code",
   "execution_count": null,
   "metadata": {},
   "outputs": [],
   "source": [
    "# Instalación de dependencias\n",
    "# %pip install crawl4ai beautifulsoup4 \n"
   ]
  },
  {
   "cell_type": "code",
   "execution_count": 9,
   "metadata": {},
   "outputs": [],
   "source": [
    "# Importaciones necesarias\n",
    "import sys\n",
    "import os\n",
    "import re\n",
    "import asyncio\n",
    "import nest_asyncio\n",
    "nest_asyncio.apply()\n",
    "from urllib.parse import urlparse, urljoin\n",
    "from bs4 import BeautifulSoup\n",
    "from crawl4ai import AsyncWebCrawler\n",
    "\n",
    "# Configurar policy para Windows/VSCode\n",
    "if sys.platform == \"win32\":\n",
    "    asyncio.set_event_loop_policy(asyncio.WindowsProactorEventLoopPolicy())\n",
    "\n",
    "if sys.platform.startswith(\"win\") and sys.version_info >= (3, 8):\n",
    "\n",
    "            try:\n",
    "                from asyncio import (\n",
    "                    WindowsProactorEventLoopPolicy,\n",
    "                    WindowsSelectorEventLoopPolicy,\n",
    "                )\n",
    "            except ImportError:\n",
    "                pass\n",
    "                # not affected\n",
    "            else:\n",
    "                if type(asyncio.get_event_loop_policy()) is WindowsProactorEventLoopPolicy:\n",
    "                    # WindowsProactorEventLoopPolicy is not compatible with tornado 6\n",
    "                    # fallback to the pre-3.8 default of Selector\n",
    "                    asyncio.set_event_loop_policy(WindowsSelectorEventLoopPolicy())\n",
    "                    print(f'do not change to Selector Event Loop')\n",
    "\n",
    "\n",
    "# Agregar el directorio padre al path\n",
    "sys.path.append(os.path.dirname(os.path.dirname(os.path.abspath('.'))))\n",
    "\n"
   ]
  },
  {
   "cell_type": "code",
   "execution_count": 10,
   "metadata": {},
   "outputs": [],
   "source": [
    "# Importar desde el módulo\n",
    "from descubrimiento import DescubrirSitios, PATRONES_INTERES, DEPARTAMENTOS_CONOCIDOS, DOMINIO, URLS_BASE\n",
    "\n",
    "# 1. Crear instancia de la clase:\n",
    "descubridor = DescubrirSitios()"
   ]
  },
  {
   "cell_type": "markdown",
   "metadata": {},
   "source": [
    "## 1. Análisis del Método Original\n",
    "\n",
    "Primero vamos a examinar el método `extraer_links_relevantes` actual y probarlo con algunos ejemplos."
   ]
  },
  {
   "cell_type": "code",
   "execution_count": null,
   "metadata": {},
   "outputs": [],
   "source": [
    "# Crear instancia para probar\n",
    "descubridor = DescubrirSitios()\n",
    "\n",
    "# Ver los patrones actuales\n",
    "print(\"🎯 PATRONES DE INTERÉS ACTUALES:\")\n",
    "for i, patron in enumerate(PATRONES_INTERES, 1):\n",
    "    print(f\"  {i}. {patron}\")\n",
    "\n",
    "print(\"\\n🏛️ DEPARTAMENTOS CONOCIDOS:\")\n",
    "for i, depto in enumerate(DEPARTAMENTOS_CONOCIDOS, 1):\n",
    "    print(f\"  {i}. {depto}\")\n",
    "\n",
    "print(\"\\n🌐 DOMINIOS PERMITIDOS:\")\n",
    "for i, dominio in enumerate(DOMINIO, 1):\n",
    "    print(f\"  {i}. {dominio}\")"
   ]
  },
  {
   "cell_type": "code",
   "execution_count": 11,
   "metadata": {},
   "outputs": [],
   "source": [
    "async def procesar_url_simple(url):\n",
    "    async with AsyncWebCrawler() as crawler:\n",
    "        resultado = await descubridor.procesar_url(crawler, url)\n",
    "        return resultado"
   ]
  },
  {
   "cell_type": "code",
   "execution_count": 12,
   "metadata": {},
   "outputs": [
    {
     "data": {
      "text/html": [
       "<pre style=\"white-space:pre;overflow-x:auto;line-height:normal;font-family:Menlo,'DejaVu Sans Mono',consolas,'Courier New',monospace\"><span style=\"color: #008080; text-decoration-color: #008080; font-weight: bold\">[</span><span style=\"color: #008080; text-decoration-color: #008080\">INIT</span><span style=\"color: #008080; text-decoration-color: #008080; font-weight: bold\">]</span><span style=\"color: #008080; text-decoration-color: #008080\">.... → Crawl4AI </span><span style=\"color: #008080; text-decoration-color: #008080; font-weight: bold\">0.7</span><span style=\"color: #008080; text-decoration-color: #008080\">.</span><span style=\"color: #008080; text-decoration-color: #008080; font-weight: bold\">2</span><span style=\"color: #008080; text-decoration-color: #008080\"> </span>\n",
       "</pre>\n"
      ],
      "text/plain": [
       "\u001b[1;36m[\u001b[0m\u001b[36mINIT\u001b[0m\u001b[1;36m]\u001b[0m\u001b[36m...\u001b[0m\u001b[36m. → Crawl4AI \u001b[0m\u001b[1;36m0.7\u001b[0m\u001b[36m.\u001b[0m\u001b[1;36m2\u001b[0m\u001b[36m \u001b[0m\n"
      ]
     },
     "metadata": {},
     "output_type": "display_data"
    },
    {
     "name": "stdout",
     "output_type": "stream",
     "text": [
      "🔍 Analizando: https://lcd.exactas.uba.ar/\n"
     ]
    },
    {
     "data": {
      "text/html": [
       "<pre style=\"white-space:pre;overflow-x:auto;line-height:normal;font-family:Menlo,'DejaVu Sans Mono',consolas,'Courier New',monospace\"><span style=\"color: #008000; text-decoration-color: #008000; font-weight: bold\">[</span><span style=\"color: #008000; text-decoration-color: #008000\">FETCH</span><span style=\"color: #008000; text-decoration-color: #008000; font-weight: bold\">]</span><span style=\"color: #008000; text-decoration-color: #008000\">... ↓ </span><span style=\"color: #008000; text-decoration-color: #008000; text-decoration: underline\">https://lcd.exactas.uba.ar/</span><span style=\"color: #008000; text-decoration-color: #008000\">                                                                          |</span>\n",
       "<span style=\"color: #008000; text-decoration-color: #008000\">✓ | ⏱: </span><span style=\"color: #008000; text-decoration-color: #008000; font-weight: bold\">2.</span><span style=\"color: #008000; text-decoration-color: #008000\">61s </span>\n",
       "</pre>\n"
      ],
      "text/plain": [
       "\u001b[1;32m[\u001b[0m\u001b[32mFETCH\u001b[0m\u001b[1;32m]\u001b[0m\u001b[32m...\u001b[0m\u001b[32m ↓ \u001b[0m\u001b[4;32mhttps://lcd.exactas.uba.ar/\u001b[0m\u001b[32m                                                                          |\u001b[0m\n",
       "\u001b[32m✓\u001b[0m\u001b[32m | ⏱: \u001b[0m\u001b[1;32m2.\u001b[0m\u001b[32m61s \u001b[0m\n"
      ]
     },
     "metadata": {},
     "output_type": "display_data"
    },
    {
     "data": {
      "text/html": [
       "<pre style=\"white-space:pre;overflow-x:auto;line-height:normal;font-family:Menlo,'DejaVu Sans Mono',consolas,'Courier New',monospace\"><span style=\"color: #008000; text-decoration-color: #008000; font-weight: bold\">[</span><span style=\"color: #008000; text-decoration-color: #008000\">SCRAPE</span><span style=\"color: #008000; text-decoration-color: #008000; font-weight: bold\">]</span><span style=\"color: #008000; text-decoration-color: #008000\">.. ◆ </span><span style=\"color: #008000; text-decoration-color: #008000; text-decoration: underline\">https://lcd.exactas.uba.ar/</span><span style=\"color: #008000; text-decoration-color: #008000\">                                                                          |</span>\n",
       "<span style=\"color: #008000; text-decoration-color: #008000\">✓ | ⏱: </span><span style=\"color: #008000; text-decoration-color: #008000; font-weight: bold\">0.</span><span style=\"color: #008000; text-decoration-color: #008000\">03s </span>\n",
       "</pre>\n"
      ],
      "text/plain": [
       "\u001b[1;32m[\u001b[0m\u001b[32mSCRAPE\u001b[0m\u001b[1;32m]\u001b[0m\u001b[32m.. ◆ \u001b[0m\u001b[4;32mhttps://lcd.exactas.uba.ar/\u001b[0m\u001b[32m                                                                          |\u001b[0m\n",
       "\u001b[32m✓\u001b[0m\u001b[32m | ⏱: \u001b[0m\u001b[1;32m0.\u001b[0m\u001b[32m03s \u001b[0m\n"
      ]
     },
     "metadata": {},
     "output_type": "display_data"
    },
    {
     "data": {
      "text/html": [
       "<pre style=\"white-space:pre;overflow-x:auto;line-height:normal;font-family:Menlo,'DejaVu Sans Mono',consolas,'Courier New',monospace\"><span style=\"color: #008000; text-decoration-color: #008000; font-weight: bold\">[</span><span style=\"color: #008000; text-decoration-color: #008000\">COMPLETE</span><span style=\"color: #008000; text-decoration-color: #008000; font-weight: bold\">]</span><span style=\"color: #008000; text-decoration-color: #008000\"> ● </span><span style=\"color: #008000; text-decoration-color: #008000; text-decoration: underline\">https://lcd.exactas.uba.ar/</span><span style=\"color: #008000; text-decoration-color: #008000\">                                                                          |</span>\n",
       "<span style=\"color: #008000; text-decoration-color: #008000\">✓ | ⏱: </span><span style=\"color: #008000; text-decoration-color: #008000; font-weight: bold\">2.</span><span style=\"color: #008000; text-decoration-color: #008000\">64s </span>\n",
       "</pre>\n"
      ],
      "text/plain": [
       "\u001b[1;32m[\u001b[0m\u001b[32mCOMPLETE\u001b[0m\u001b[1;32m]\u001b[0m\u001b[32m ● \u001b[0m\u001b[4;32mhttps://lcd.exactas.uba.ar/\u001b[0m\u001b[32m                                                                          |\u001b[0m\n",
       "\u001b[32m✓\u001b[0m\u001b[32m | ⏱: \u001b[0m\u001b[1;32m2.\u001b[0m\u001b[32m64s \u001b[0m\n"
      ]
     },
     "metadata": {},
     "output_type": "display_data"
    },
    {
     "name": "stdout",
     "output_type": "stream",
     "text": [
      "{'url': 'https://lcd.exactas.uba.ar/', 'titulo': 'Licenciatura en Datos – Exactas – UBA – Carrera de la Facultad de Ciencias Exactas y Naturales', 'tecnologia': {'cms': 'wordpress', 'framework': 'desconocido', 'complejidad': 'compleja'}, 'contenido_materias': {'tiene_materias': True, 'tiene_horarios': True, 'tiene_correlativas': True, 'tiene_programas': True, 'cantidad_materias_estimada': 15, 'tipos_informacion': ['horarios', 'correlativas', 'programas']}, 'links_encontrados': ['https://lcd.exactas.uba.ar/materias/', 'https://lcd.exactas.uba.ar/materias-obligatorias/', 'https://lcd.exactas.uba.ar/materias-optativas/', 'https://lcd.exactas.uba.ar/horarios-de-consulta/', 'https://lcd.exactas.uba.ar/zoom-de-metodos-para-datos-moleculares-de-alta-dimension-estadistica-computacional-y-prediccion-de-riesgos/', 'https://lcd.exactas.uba.ar/zoom-de-metodos-para-datos-moleculares-de-alta-dimension-estadistica-computacional-y-prediccion-de-riesgos/#respond', 'https://lcd.exactas.uba.ar/materias/#Caminos', 'https://exactas.uba.ar/programa-ingresantes-cbc-exactas/', 'https://lcd.exactas.uba.ar/institucional/#_doceContainer', 'https://lcd.exactas.uba.ar/comision-de-carrera/'], 'status': 'exitoso', 'timestamp': '2025-07-29T00:10:24.994782'}\n"
     ]
    }
   ],
   "source": [
    "url_ejemplo = \"https://lcd.exactas.uba.ar/\"\n",
    "\n",
    "links = asyncio.run(procesar_url_simple(url_ejemplo))\n",
    "print(links)"
   ]
  }
 ],
 "metadata": {
  "kernelspec": {
   "display_name": "Python 3 (ipykernel)",
   "language": "python",
   "name": "python3"
  },
  "language_info": {
   "codemirror_mode": {
    "name": "ipython",
    "version": 3
   },
   "file_extension": ".py",
   "mimetype": "text/x-python",
   "name": "python",
   "nbconvert_exporter": "python",
   "pygments_lexer": "ipython3",
   "version": "3.11.13"
  }
 },
 "nbformat": 4,
 "nbformat_minor": 4
}
