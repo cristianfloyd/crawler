{
 "cells": [
  {
   "cell_type": "markdown",
   "metadata": {},
   "source": [
    "# Análisis y Mejora de Detección de Links\n",
    "\n",
    "Este notebook se centra en analizar y mejorar los métodos de detección de links de la clase `DescubrirSitios`, especialmente para filtrar links irrelevantes como categorías de WordPress, posts de autores, etc."
   ]
  },
  {
   "cell_type": "markdown",
   "metadata": {},
   "source": [
    "## 1. Cargar Datos de SITIOS_RELEVANTES"
   ]
  },
  {
   "cell_type": "code",
   "execution_count": null,
   "metadata": {},
   "outputs": [],
   "source": [
    "# Instalación de dependencias\n",
    "# %pip install crawl4ai beautifulsoup4 \n"
   ]
  },
  {
   "cell_type": "code",
   "execution_count": null,
   "metadata": {},
   "outputs": [],
   "source": [
    "# Importaciones necesarias\n",
    "import sys\n",
    "import os\n",
    "import re\n",
    "import asyncio\n",
    "import nest_asyncio\n",
    "nest_asyncio.apply()\n",
    "from urllib.parse import urlparse, urljoin\n",
    "from bs4 import BeautifulSoup\n",
    "from crawl4ai import AsyncWebCrawler\n",
    "\n",
    "# Configurar policy para Windows/VSCode\n",
    "if sys.platform == \"win32\":\n",
    "    asyncio.set_event_loop_policy(asyncio.WindowsProactorEventLoopPolicy())\n",
    "\n",
    "if sys.platform.startswith(\"win\") and sys.version_info >= (3, 8):\n",
    "\n",
    "            try:\n",
    "                from asyncio import (\n",
    "                    WindowsProactorEventLoopPolicy,\n",
    "                    WindowsSelectorEventLoopPolicy,\n",
    "                )\n",
    "            except ImportError:\n",
    "                pass\n",
    "                # not affected\n",
    "            else:\n",
    "                if type(asyncio.get_event_loop_policy()) is WindowsProactorEventLoopPolicy:\n",
    "                    # WindowsProactorEventLoopPolicy is not compatible with tornado 6\n",
    "                    # fallback to the pre-3.8 default of Selector\n",
    "                    asyncio.set_event_loop_policy(WindowsSelectorEventLoopPolicy())\n",
    "                    print(f'do not change to Selector Event Loop')\n",
    "\n",
    "\n",
    "# Agregar el directorio padre al path\n",
    "sys.path.append(os.path.dirname(os.path.dirname(os.path.abspath('.'))))\n",
    "\n",
    "# Importar desde el módulo\n",
    "from crawler.descubrimiento import DescubrirSitios, PATRONES_INTERES, DEPARTAMENTOS_CONOCIDOS, DOMINIO, URLS_BASE\n",
    "\n",
    "# 1. Crear instancia de la clase:\n",
    "descubridor = DescubrirSitios()"
   ]
  },
  {
   "cell_type": "markdown",
   "metadata": {},
   "source": [
    "## 1. Análisis del Método Original\n",
    "\n",
    "Primero vamos a examinar el método `extraer_links_relevantes` actual y probarlo con algunos ejemplos."
   ]
  },
  {
   "cell_type": "code",
   "execution_count": null,
   "metadata": {},
   "outputs": [],
   "source": [
    "# Crear instancia para probar\n",
    "descubridor = DescubrirSitios()\n",
    "\n",
    "# Ver los patrones actuales\n",
    "print(\"🎯 PATRONES DE INTERÉS ACTUALES:\")\n",
    "for i, patron in enumerate(PATRONES_INTERES, 1):\n",
    "    print(f\"  {i}. {patron}\")\n",
    "\n",
    "print(\"\\n🏛️ DEPARTAMENTOS CONOCIDOS:\")\n",
    "for i, depto in enumerate(DEPARTAMENTOS_CONOCIDOS, 1):\n",
    "    print(f\"  {i}. {depto}\")\n",
    "\n",
    "print(\"\\n🌐 DOMINIOS PERMITIDOS:\")\n",
    "for i, dominio in enumerate(DOMINIO, 1):\n",
    "    print(f\"  {i}. {dominio}\")"
   ]
  },
  {
   "cell_type": "code",
   "execution_count": null,
   "metadata": {},
   "outputs": [],
   "source": [
    "async def procesar_url_simple(url):\n",
    "    async with AsyncWebCrawler() as crawler:\n",
    "        resultado = await descubridor.procesar_url(crawler, url)\n",
    "        return resultado"
   ]
  },
  {
   "cell_type": "code",
   "execution_count": null,
   "metadata": {},
   "outputs": [],
   "source": [
    "url_ejemplo = \"https://lcd.exactas.uba.ar/\"\n",
    "\n",
    "links = asyncio.run(procesar_url_simple(url_ejemplo))\n",
    "print(links)"
   ]
  }
 ],
 "metadata": {
  "kernelspec": {
   "display_name": "Python 3",
   "language": "python",
   "name": "python3"
  },
  "language_info": {
   "codemirror_mode": {
    "name": "ipython",
    "version": 3
   },
   "file_extension": ".py",
   "mimetype": "text/x-python",
   "name": "python",
   "nbconvert_exporter": "python",
   "pygments_lexer": "ipython3",
   "version": "3.12.10"
  }
 },
 "nbformat": 4,
 "nbformat_minor": 4
}
