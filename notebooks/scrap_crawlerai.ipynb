{
 "cells": [
  {
   "cell_type": "code",
   "id": "cbf4d1be",
   "metadata": {
    "ExecuteTime": {
     "end_time": "2025-07-30T05:10:20.984326Z",
     "start_time": "2025-07-30T05:10:20.931010Z"
    }
   },
   "source": [
    "import sys\n",
    "import os\n",
    "project_root = os.path.abspath(os.path.join(os.getcwd(), '..'))\n",
    "\n",
    "if project_root not in sys.path:\n",
    "    sys.path.append(project_root)"
   ],
   "outputs": [],
   "execution_count": 1
  },
  {
   "cell_type": "code",
   "id": "2f04bf09",
   "metadata": {
    "ExecuteTime": {
     "end_time": "2025-07-30T05:12:01.416319Z",
     "start_time": "2025-07-30T05:11:59.077699Z"
    }
   },
   "source": [
    "from crawl4ai import JsonCssExtractionStrategy\n",
    "from crawl4ai import LLMConfig\n",
    "\n",
    "# Generate a schema (one-time cost)\n",
    "html = \"<div class='product'><h2>Gaming Laptop</h2><span class='price'>$999.99</span></div>\"\n",
    "\n",
    "# Using OpenAI (requires API token)\n",
    "schema = JsonCssExtractionStrategy.generate_schema(\n",
    "    html,\n",
    "    llm_config = LLMConfig(provider=\"openai/gpt-4o\",api_token=\"your-openai-token\")  # Required for OpenAI\n",
    ")\n",
    "\n",
    "# Or using Ollama (open source, no token needed)\n",
    "schema = JsonCssExtractionStrategy.generate_schema(\n",
    "    html,\n",
    "    llm_config = LLMConfig(provider=\"ollama/llama3.3\", api_token=None)  # Not needed for Ollama\n",
    ")\n",
    "\n",
    "# Use the schema for fast, repeated extractions\n",
    "strategy = JsonCssExtractionStrategy(schema)\n",
    "\n",
    "\n",
    "\n",
    "url = \"https://exactas.uba.ar/ensenanza/carreras-de-grado/ciencias-de-datos/\""
   ],
   "outputs": [
    {
     "ename": "ModuleNotFoundError",
     "evalue": "No module named 'crawler'",
     "output_type": "error",
     "traceback": [
      "\u001B[31m---------------------------------------------------------------------------\u001B[39m",
      "\u001B[31mModuleNotFoundError\u001B[39m                       Traceback (most recent call last)",
      "\u001B[36mCell\u001B[39m\u001B[36m \u001B[39m\u001B[32mIn[3]\u001B[39m\u001B[32m, line 5\u001B[39m\n\u001B[32m      3\u001B[39m \u001B[38;5;28;01mfrom\u001B[39;00m\u001B[38;5;250m \u001B[39m\u001B[34;01mcrawl4ai\u001B[39;00m\u001B[38;5;250m \u001B[39m\u001B[38;5;28;01mimport\u001B[39;00m AsyncWebCrawler\n\u001B[32m      4\u001B[39m sys.path.append(\u001B[33m'\u001B[39m\u001B[33m/users/arca/desarrollo/Exacty\u001B[39m\u001B[33m'\u001B[39m)\n\u001B[32m----> \u001B[39m\u001B[32m5\u001B[39m \u001B[38;5;28;01mfrom\u001B[39;00m\u001B[38;5;250m \u001B[39m\u001B[34;01mcrawler\u001B[39;00m\u001B[34;01m.\u001B[39;00m\u001B[34;01mscrap_materias_rag\u001B[39;00m\u001B[38;5;250m \u001B[39m\u001B[38;5;28;01mimport\u001B[39;00m obtener_materias_desde_html\n\u001B[32m      9\u001B[39m url = \u001B[33m\"\u001B[39m\u001B[33mhttps://exactas.uba.ar/ensenanza/carreras-de-grado/ciencias-de-datos/\u001B[39m\u001B[33m\"\u001B[39m\n",
      "\u001B[31mModuleNotFoundError\u001B[39m: No module named 'crawler'"
     ]
    }
   ],
   "execution_count": 3
  },
  {
   "cell_type": "code",
   "execution_count": null,
   "id": "e4438484",
   "metadata": {},
   "outputs": [],
   "source": ""
  },
  {
   "cell_type": "code",
   "execution_count": null,
   "id": "7cbab1eb",
   "metadata": {},
   "outputs": [],
   "source": ""
  },
  {
   "cell_type": "markdown",
   "id": "157ed9e1",
   "metadata": {},
   "source": [
    "---------------------------------------------------------------------------"
   ]
  },
  {
   "cell_type": "code",
   "id": "02fe82fa",
   "metadata": {
    "ExecuteTime": {
     "end_time": "2025-07-30T05:11:36.653238Z",
     "start_time": "2025-07-30T05:11:36.647653Z"
    }
   },
   "source": [
    "print(project_root)"
   ],
   "outputs": [
    {
     "name": "stdout",
     "output_type": "stream",
     "text": [
      "/app\n"
     ]
    }
   ],
   "execution_count": 2
  }
 ],
 "metadata": {
  "kernelspec": {
   "display_name": ".venv",
   "language": "python",
   "name": "python3"
  },
  "language_info": {
   "codemirror_mode": {
    "name": "ipython",
    "version": 3
   },
   "file_extension": ".py",
   "mimetype": "text/x-python",
   "name": "python",
   "nbconvert_exporter": "python",
   "pygments_lexer": "ipython3",
   "version": "3.12.10"
  }
 },
 "nbformat": 4,
 "nbformat_minor": 5
}
