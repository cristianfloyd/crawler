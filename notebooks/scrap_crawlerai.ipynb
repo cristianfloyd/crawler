{
 "cells": [
  {
   "cell_type": "code",
   "execution_count": null,
   "id": "cbf4d1be",
   "metadata": {},
   "outputs": [],
   "source": [
    "import sys\n",
    "import os\n",
    "project_root = os.path.abspath(os.path.join(os.getcwd(), '..'))\n",
    "\n",
    "if project_root not in sys.path:\n",
    "    sys.path.append(project_root)"
   ]
  },
  {
   "cell_type": "code",
   "execution_count": null,
   "id": "2f04bf09",
   "metadata": {},
   "outputs": [],
   "source": [
    "# importar librerias necesarias y la funcion a probar\n",
    "import asyncio\n",
    "from crawl4ai import AsyncWebCrawler\n",
    "sys.path.append('/users/arca/desarrollo/Exacty')\n",
    "from crawler.scrap_materias_rag import obtener_materias_desde_html\n",
    "\n",
    "# Importar nest_asyncio para permitir bucles anidados en jupyter notebooks\n",
    "import nest_asyncio\n",
    "nest_asyncio.apply()\n",
    "\n",
    "url = \"https://exactas.uba.ar/ensenanza/carreras-de-grado/ciencias-de-datos/\""
   ]
  },
  {
   "cell_type": "code",
   "execution_count": null,
   "id": "e4438484",
   "metadata": {},
   "outputs": [],
   "source": [
    "async def get_materias_links_from_notebook():\n",
    "    \"\"\"\n",
    "    Función auxiliar para ejecutar obtener_links_materias en un entorno asíncrono.\n",
    "    \"\"\"\n",
    "    async with AsyncWebCrawler(verbose=True) as crawler:\n",
    "        links = await obtener_materias_desde_html(crawler)\n",
    "        return links"
   ]
  },
  {
   "cell_type": "code",
   "execution_count": null,
   "id": "7cbab1eb",
   "metadata": {},
   "outputs": [],
   "source": [
    "# Ejecuta la función asíncrona\n",
    "# Con nest_asyncio.apply(), puedes usar asyncio.run() sin problemas de bucles anidados.\n",
    "# O si tu entorno Jupyter/IPython soporta 'await' de nivel superior, puedes usarlo directamente.\n",
    "materias_links = await get_materias_links_from_notebook()\n"
   ]
  },
  {
   "cell_type": "markdown",
   "id": "157ed9e1",
   "metadata": {},
   "source": [
    "---------------------------------------------------------------------------"
   ]
  },
  {
   "cell_type": "code",
   "execution_count": null,
   "id": "02fe82fa",
   "metadata": {},
   "outputs": [],
   "source": [
    "print(project_root)"
   ]
  }
 ],
 "metadata": {
  "kernelspec": {
   "display_name": ".venv",
   "language": "python",
   "name": "python3"
  },
  "language_info": {
   "codemirror_mode": {
    "name": "ipython",
    "version": 3
   },
   "file_extension": ".py",
   "mimetype": "text/x-python",
   "name": "python",
   "nbconvert_exporter": "python",
   "pygments_lexer": "ipython3",
   "version": "3.12.10"
  }
 },
 "nbformat": 4,
 "nbformat_minor": 5
}
