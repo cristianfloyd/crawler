{
 "cells": [
  {
   "cell_type": "code",
   "execution_count": 3,
   "id": "15a13900",
   "metadata": {},
   "outputs": [],
   "source": [
    "from urllib.parse import urlparse\n"
   ]
  },
  {
   "cell_type": "code",
   "execution_count": null,
   "id": "7e70fd58",
   "metadata": {},
   "outputs": [],
   "source": [
    "DOMINIO = \"uba.ar\"\n",
    "url = 'http://vkontakte.ru/share.php?url=https%3A%2F%2Flcd.exactas.uba.ar%2Fmaterias-optativas%2F&title=Materias%20Optativas%20Sugeridas&description=Importante%3A%20%0D%0A%0D%0A%20%09El%20plan%20de%20optativas%20para%20el%20tercer%20ciclo%20debe%20ser%20consensuado%20con%20la%2Fel%20tutor%2Fa%20y%20aprobado%20por%20la%20comisi%C3%B3n%20de%20carrera.%0D%0A%20%09Las%20materias%20indicadas%20con%20%28%2B%29%20requieren%20que%20cada%20estudiante%20realice%20un%20tr%C3%A1mite%20individual%20en%20el%20Departamento%20de%20Alumnos%20para%20que%20sean%20consideradas%20como%20parte%20de%20su%20plan%20de%20estudios.%0D%0A%20%09Las%20que%20no'\n",
    "domain_allowed = False\n",
    "parsed_url = urlparse(url)\n",
    "domain_allowed = any(domain in parsed_url.netloc for domain in DOMINIO)\n",
    "if not domain_allowed:\n",
    "    print(f\"domio {parsed_url.netloc} no permitido\")"
   ]
  },
  {
   "cell_type": "code",
   "execution_count": 8,
   "id": "8bbfd016",
   "metadata": {},
   "outputs": [
    {
     "data": {
      "text/plain": [
       "'vkontakte.ru'"
      ]
     },
     "execution_count": 8,
     "metadata": {},
     "output_type": "execute_result"
    }
   ],
   "source": [
    "parsed_url.netloc"
   ]
  },
  {
   "cell_type": "code",
   "execution_count": 10,
   "id": "40aba097",
   "metadata": {},
   "outputs": [
    {
     "data": {
      "text/plain": [
       "False"
      ]
     },
     "execution_count": 10,
     "metadata": {},
     "output_type": "execute_result"
    }
   ],
   "source": [
    "DOMINIO in parsed_url.netloc"
   ]
  },
  {
   "cell_type": "code",
   "execution_count": null,
   "id": "442d1ee8",
   "metadata": {},
   "outputs": [],
   "source": []
  }
 ],
 "metadata": {
  "kernelspec": {
   "display_name": ".venv",
   "language": "python",
   "name": "python3"
  },
  "language_info": {
   "codemirror_mode": {
    "name": "ipython",
    "version": 3
   },
   "file_extension": ".py",
   "mimetype": "text/x-python",
   "name": "python",
   "nbconvert_exporter": "python",
   "pygments_lexer": "ipython3",
   "version": "3.12.10"
  }
 },
 "nbformat": 4,
 "nbformat_minor": 5
}
